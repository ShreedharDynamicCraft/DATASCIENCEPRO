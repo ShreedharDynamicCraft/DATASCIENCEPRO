{
 "cells": [
  {
   "cell_type": "code",
   "execution_count": null,
   "id": "dd3d858f",
   "metadata": {},
   "outputs": [],
   "source": [
    "# Task 1: Swap values of two variables without using a temporary variable\n",
    "a = 6\n",
    "b = 9\n",
    "a = a + b\n",
    "b = a - b\n",
    "a = a - b\n",
    "print(\"After swapping: a =\", a, \"b =\", b)"
   ]
  },
  {
   "cell_type": "code",
   "execution_count": null,
   "id": "c8e846d9",
   "metadata": {},
   "outputs": [],
   "source": [
    "# Task 2: Calculate the area of a rectangle\n",
    "length = int(input(\"Enter the length of the rectangle: \"))\n",
    "breadth = int(input(\"Enter the breadth of the rectangle: \"))\n",
    "area = length * breadth\n",
    "print(\"Area of rectangle is\", area)"
   ]
  },
  {
   "cell_type": "code",
   "execution_count": null,
   "id": "93599207",
   "metadata": {
    "lines_to_next_cell": 2
   },
   "outputs": [],
   "source": [
    "# Task 3: Convert temperatures from Celsius to Fahrenheit\n",
    "celsius_temperature = float(input(\"Enter temperature in Celsius: \"))\n",
    "fahrenheit_temperature = (celsius_temperature * 9/5) + 32\n",
    "print(\"Temperature in Fahrenheit:\", fahrenheit_temperature)"
   ]
  },
  {
   "cell_type": "markdown",
   "id": "8bdace51",
   "metadata": {},
   "source": [
    "STRING BASED TASKS"
   ]
  },
  {
   "cell_type": "code",
   "execution_count": 1,
   "id": "aa81207c",
   "metadata": {},
   "outputs": [
    {
     "name": "stdout",
     "output_type": "stream",
     "text": [
      "Length of the string: 9\n"
     ]
    }
   ],
   "source": [
    "# Task 1: Print the length of a string\n",
    "string_input = input(\"Enter any string: \")\n",
    "print(\"Length of the string:\", len(string_input))"
   ]
  },
  {
   "cell_type": "code",
   "execution_count": null,
   "id": "f13bd3b9",
   "metadata": {},
   "outputs": [],
   "source": [
    "# Task 2: Count the number of vowels in a string\n",
    "string_input = input(\"Enter any string: \")\n",
    "vowel_count = 0\n",
    "for char in string_input:\n",
    "    if char.lower() in \"aeiou\":\n",
    "        vowel_count += 1\n",
    "print(\"Total vowels in the string:\", vowel_count)"
   ]
  },
  {
   "cell_type": "code",
   "execution_count": null,
   "id": "039372cb",
   "metadata": {},
   "outputs": [],
   "source": [
    "# Task 3: Reverse the order of characters in a string using string slicing\n",
    "string_input = input(\"Enter any string: \")\n",
    "reversed_string = string_input[::-1]\n",
    "print(\"Reversed string:\", reversed_string)"
   ]
  },
  {
   "cell_type": "code",
   "execution_count": null,
   "id": "cda705b7",
   "metadata": {},
   "outputs": [],
   "source": [
    "# Task 4: Check if a string is a palindrome\n",
    "string_input = input(\"Enter any string: \")\n",
    "if string_input == string_input[::-1]:\n",
    "    print(\"The string is a palindrome.\")\n",
    "else:\n",
    "    print(\"The string is not a palindrome.\")"
   ]
  },
  {
   "cell_type": "code",
   "execution_count": null,
   "id": "f30d4506",
   "metadata": {},
   "outputs": [],
   "source": [
    "# Task 5: Remove spaces from a string\n",
    "string_input = input(\"Enter any string: \")\n",
    "string_without_spaces = string_input.replace(\" \", \"\")\n",
    "print(\"Modified string without spaces:\", string_without_spaces)"
   ]
  }
 ],
 "metadata": {
  "jupytext": {
   "cell_metadata_filter": "-all",
   "main_language": "python",
   "notebook_metadata_filter": "-all"
  },
  "kernelspec": {
   "display_name": "Python 3",
   "language": "python",
   "name": "python3"
  },
  "language_info": {
   "codemirror_mode": {
    "name": "ipython",
    "version": 3
   },
   "file_extension": ".py",
   "mimetype": "text/x-python",
   "name": "python",
   "nbconvert_exporter": "python",
   "pygments_lexer": "ipython3",
   "version": "3.10.12"
  }
 },
 "nbformat": 4,
 "nbformat_minor": 5
}
